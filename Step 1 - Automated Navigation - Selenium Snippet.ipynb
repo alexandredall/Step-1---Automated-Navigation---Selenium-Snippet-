{
 "cells": [
  {
   "cell_type": "markdown",
   "metadata": {},
   "source": [
    "<b>Hi everybody </b>, this little snippet will show you how to use a selenium lib in order to make an automated web scraping you can use to analyse data, find patterns,etc.\n",
    "\n",
    "This snippet is the first of many other, each one will show you the next step, this one shows the automated connection in a web page, in this case, the facebook, the  next will show you how to scraping a web page using beautiful soap, after we'll to download the data and keep it in a database and so on."
   ]
  },
  {
   "cell_type": "markdown",
   "metadata": {},
   "source": [
    "--------------------------------------------------------------------------------------------------------------------------------\n",
    "According with the documentation, the selenium package is used to automate web browser interaction from Python and used to make automated tests.\n",
    "\n",
    "You can find more information in https://pypi.org/project/selenium/\n",
    "\n",
    "Several browsers/drivers are supported (Firefox, Chrome, Internet Explorer), as well as the Remote protocol.\n",
    "\n",
    "<b>Supporte Python versions: Python 2.7, 3.4+</b>\n",
    "\n",
    "For the installation you can use on of this 3 options:\n",
    "\n",
    "using pip:\n",
    "\n",
    "<b>pip install -U selenium</b>\n",
    "\n",
    "You can download the source distribution from PyPI (e.g. selenium-3.14.0.tar.gz), unarchive it, and run:\n",
    "\n",
    "<b>python setup.py install</b>\n",
    "\n",
    "Finally if  you're using Anaconda:\n",
    "\n",
    "<b>conda install -c conda-forge selenium </b>\n",
    "\n",
    "\n",
    "\n"
   ]
  },
  {
   "cell_type": "markdown",
   "metadata": {},
   "source": [
    "--------------------------------------------------------------------------------------------------------------------------------\n",
    "\n",
    "The first thing we need to do is to import the libraries we'll use in this snippet.\n",
    "\n",
    "In this case, for this first step, the most important one is the selenium where we'll make the automated connection.\n",
    "\n",
    "--------------------------------------------------------------------------------------------------------------------------------"
   ]
  },
  {
   "cell_type": "code",
   "execution_count": 38,
   "metadata": {},
   "outputs": [],
   "source": [
    "from urllib.request import urlopen as uReq\n",
    "from bs4 import BeautifulSoup as soup\n",
    "from datetime import datetime, timedelta\n",
    "from selenium import webdriver\n",
    "import time"
   ]
  },
  {
   "cell_type": "markdown",
   "metadata": {},
   "source": [
    "--------------------------------------------------------------------------------------------------------------------------------\n",
    "\n",
    "After importing the libs, in order to run the code, we need to choose the correct driver to use in. \n",
    "\n",
    "<b>Selenium requires a driver to interface with the chosen browser.</b>\n",
    "\n",
    "Here, we'll use the Chromium, but many other can  be used.\n",
    "\n",
    "you can find the driver here:\n",
    "\n",
    "    https://sites.google.com/a/chromium.org/chromedriver/downloads\n",
    "\n",
    "you can find more information in the Selenium project's page.\n"
   ]
  },
  {
   "cell_type": "markdown",
   "metadata": {},
   "source": [
    "--------------------------------------------------------------------------------------------------------------------------------\n",
    "\n",
    "With Chrome driver installed, we need to set some option in order to run it.\n",
    "\n",
    "--------------------------------------------------------------------------------------------------------------------------------"
   ]
  },
  {
   "cell_type": "code",
   "execution_count": 39,
   "metadata": {},
   "outputs": [],
   "source": [
    "options = webdriver.ChromeOptions()\n",
    "options.add_argument('--ignore-certificate-errors')\n",
    "options.add_argument(\"--test-type\")\n",
    "options.binary_location = \"Your drive:\\Your directory\\chromedriver.exe\"\n",
    "driver = webdriver.Chrome(\"Your drive:\\Your directory\\chromedriver.exe\")"
   ]
  },
  {
   "cell_type": "markdown",
   "metadata": {},
   "source": [
    "--------------------------------------------------------------------------------------------------------------------------------\n",
    "\n",
    "Next step is to set the url we'll use and get it with the driver.\n",
    "\n",
    "--------------------------------------------------------------------------------------------------------------------------------"
   ]
  },
  {
   "cell_type": "code",
   "execution_count": 40,
   "metadata": {},
   "outputs": [],
   "source": [
    "my_url = 'https://www.facebook.com/'"
   ]
  },
  {
   "cell_type": "code",
   "execution_count": 41,
   "metadata": {},
   "outputs": [],
   "source": [
    "driver.get(my_url)"
   ]
  },
  {
   "cell_type": "markdown",
   "metadata": {},
   "source": [
    "--------------------------------------------------------------------------------------------------------------------------------\n",
    "\n",
    "In our case we have a form to fill in order to access the web page, so we need to get the html ids from the respective fields. It's easy to find them using the driver methods like find-element_by_id or find_elements_by_xpath.\n",
    "\n",
    "--------------------------------------------------------------------------------------------------------------------------------"
   ]
  },
  {
   "cell_type": "code",
   "execution_count": 42,
   "metadata": {},
   "outputs": [],
   "source": [
    "login = driver.find_element_by_id('email');      \n",
    "senha = driver.find_element_by_id('pass');"
   ]
  },
  {
   "cell_type": "code",
   "execution_count": 43,
   "metadata": {},
   "outputs": [],
   "source": [
    "login.send_keys('your user')\n",
    "senha.send_keys('your password')"
   ]
  },
  {
   "cell_type": "code",
   "execution_count": 46,
   "metadata": {},
   "outputs": [],
   "source": [
    "submit_button = driver.find_elements_by_xpath('//*[@id=\"loginbutton\"]')[0]; "
   ]
  },
  {
   "cell_type": "code",
   "execution_count": null,
   "metadata": {},
   "outputs": [],
   "source": [
    "Now is just submit the information using the click method and <i>voilà</i>, we're in."
   ]
  },
  {
   "cell_type": "code",
   "execution_count": 47,
   "metadata": {},
   "outputs": [],
   "source": [
    "submit_button.click()"
   ]
  },
  {
   "cell_type": "markdown",
   "metadata": {},
   "source": [
    "--------------------------------------------------------------------------------------------------------------------------------\n",
    "In the next topics we'll learn how to get the data using beautiful soap, store it in a database and analyse it using some tools like pandas, matplotlib, sklearn, etc.\n",
    "\n",
    "Enjoy the code, improve it if you want!\n",
    "\n",
    "See you!!!!\n",
    "--------------------------------------------------------------------------------------------------------------------------------\n"
   ]
  },
  {
   "cell_type": "code",
   "execution_count": null,
   "metadata": {},
   "outputs": [],
   "source": []
  }
 ],
 "metadata": {
  "kernelspec": {
   "display_name": "Python 3",
   "language": "python",
   "name": "python3"
  },
  "language_info": {
   "codemirror_mode": {
    "name": "ipython",
    "version": 3
   },
   "file_extension": ".py",
   "mimetype": "text/x-python",
   "name": "python",
   "nbconvert_exporter": "python",
   "pygments_lexer": "ipython3",
   "version": "3.6.3"
  }
 },
 "nbformat": 4,
 "nbformat_minor": 2
}
